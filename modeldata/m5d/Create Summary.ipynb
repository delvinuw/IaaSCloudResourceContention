{
 "cells": [
  {
   "cell_type": "code",
   "execution_count": 177,
   "metadata": {},
   "outputs": [],
   "source": [
    "#import dependencies \n",
    "from numpy.random import seed\n",
    "from numpy.random import randn\n",
    "from scipy import stats\n",
    "import numpy as np\n",
    "\n",
    "import math  \n",
    "\n",
    "import seaborn as sns\n",
    "sns.set(style=\"darkgrid\")\n",
    "from matplotlib import pyplot as plt\n",
    "\n",
    "import pandas as pd\n",
    "import os"
   ]
  },
  {
   "cell_type": "code",
   "execution_count": 178,
   "metadata": {},
   "outputs": [
    {
     "name": "stdout",
     "output_type": "stream",
     "text": [
      "['c4_ycruncher_dedicated_host_no_idle_-s_flag_11-25-2019_18_07~18_28-us-east-1b - raw.csv', 'c4_memory_sysbench_dedcated_host_no_idle - raw.csv', 'c4_sysbench_dedicated_host_no_idle_11-25-2019_18_37~18_58_us-east-1b - raw.csv']\n"
     ]
    }
   ],
   "source": [
    "#check list of files in data directory \n",
    "data_folder = './data/dedicated_host/c4/'\n",
    "print(os.listdir(data_folder))"
   ]
  },
  {
   "cell_type": "code",
   "execution_count": 264,
   "metadata": {},
   "outputs": [],
   "source": [
    "#make sure to import correct file here\n",
    "data_name = 'c4_memory_sysbench_dedcated_host_no_idle - raw.csv'"
   ]
  },
  {
   "cell_type": "code",
   "execution_count": null,
   "metadata": {},
   "outputs": [],
   "source": []
  },
  {
   "cell_type": "code",
   "execution_count": 265,
   "metadata": {},
   "outputs": [],
   "source": [
    "#adjust header if necessary\n",
    "df_data = pd.read_csv(data_folder + data_name, header = 0)"
   ]
  },
  {
   "cell_type": "code",
   "execution_count": 266,
   "metadata": {},
   "outputs": [],
   "source": [
    "#remove idle vm rows\n",
    "\n",
    "#y-cruncher\n",
    "#df_data.dropna(subset=['processorInfo'], inplace= True)"
   ]
  },
  {
   "cell_type": "code",
   "execution_count": 267,
   "metadata": {
    "scrolled": false
   },
   "outputs": [
    {
     "data": {
      "text/html": [
       "<div>\n",
       "<style scoped>\n",
       "    .dataframe tbody tr th:only-of-type {\n",
       "        vertical-align: middle;\n",
       "    }\n",
       "\n",
       "    .dataframe tbody tr th {\n",
       "        vertical-align: top;\n",
       "    }\n",
       "\n",
       "    .dataframe thead th {\n",
       "        text-align: right;\n",
       "    }\n",
       "</style>\n",
       "<table border=\"1\" class=\"dataframe\">\n",
       "  <thead>\n",
       "    <tr style=\"text-align: right;\">\n",
       "      <th></th>\n",
       "      <th>experimentID</th>\n",
       "      <th>setId</th>\n",
       "      <th>instanceID</th>\n",
       "      <th>instanceType</th>\n",
       "      <th>wallTime</th>\n",
       "      <th>testOption</th>\n",
       "      <th>per-request-avg-time</th>\n",
       "      <th>total-time</th>\n",
       "      <th>thread-num</th>\n",
       "    </tr>\n",
       "  </thead>\n",
       "  <tbody>\n",
       "    <tr>\n",
       "      <th>0</th>\n",
       "      <td>1574805970-0</td>\n",
       "      <td>0</td>\n",
       "      <td>i-08dc3567954ef1f78</td>\n",
       "      <td>c4.large</td>\n",
       "      <td>30.371954</td>\n",
       "      <td>--num-threads=2 --test=memory --memory-block-s...</td>\n",
       "      <td>1056.70ms</td>\n",
       "      <td>29.2595s</td>\n",
       "      <td>2</td>\n",
       "    </tr>\n",
       "    <tr>\n",
       "      <th>1</th>\n",
       "      <td>1574805970-0</td>\n",
       "      <td>0</td>\n",
       "      <td>i-08dc3567954ef1f78</td>\n",
       "      <td>c4.large</td>\n",
       "      <td>31.137912</td>\n",
       "      <td>--num-threads=2 --test=memory --memory-block-s...</td>\n",
       "      <td>1081.08ms</td>\n",
       "      <td>29.9024s</td>\n",
       "      <td>2</td>\n",
       "    </tr>\n",
       "    <tr>\n",
       "      <th>2</th>\n",
       "      <td>1574805970-0</td>\n",
       "      <td>0</td>\n",
       "      <td>i-0428f37fe443a7300</td>\n",
       "      <td>c4.large</td>\n",
       "      <td>36.882425</td>\n",
       "      <td>--num-threads=2 --test=memory --memory-block-s...</td>\n",
       "      <td>1287.23ms</td>\n",
       "      <td>35.6990s</td>\n",
       "      <td>2</td>\n",
       "    </tr>\n",
       "    <tr>\n",
       "      <th>3</th>\n",
       "      <td>1574805970-0</td>\n",
       "      <td>0</td>\n",
       "      <td>i-0428f37fe443a7300</td>\n",
       "      <td>c4.large</td>\n",
       "      <td>36.477967</td>\n",
       "      <td>--num-threads=2 --test=memory --memory-block-s...</td>\n",
       "      <td>1275.88ms</td>\n",
       "      <td>35.2930s</td>\n",
       "      <td>2</td>\n",
       "    </tr>\n",
       "    <tr>\n",
       "      <th>4</th>\n",
       "      <td>1574805970-0</td>\n",
       "      <td>0</td>\n",
       "      <td>i-01cc5c3fb74edb9f4</td>\n",
       "      <td>c4.large</td>\n",
       "      <td>30.276368</td>\n",
       "      <td>--num-threads=2 --test=memory --memory-block-s...</td>\n",
       "      <td>1048.67ms</td>\n",
       "      <td>29.0292s</td>\n",
       "      <td>2</td>\n",
       "    </tr>\n",
       "  </tbody>\n",
       "</table>\n",
       "</div>"
      ],
      "text/plain": [
       "   experimentID  setId           instanceID instanceType   wallTime  \\\n",
       "0  1574805970-0      0  i-08dc3567954ef1f78     c4.large  30.371954   \n",
       "1  1574805970-0      0  i-08dc3567954ef1f78     c4.large  31.137912   \n",
       "2  1574805970-0      0  i-0428f37fe443a7300     c4.large  36.882425   \n",
       "3  1574805970-0      0  i-0428f37fe443a7300     c4.large  36.477967   \n",
       "4  1574805970-0      0  i-01cc5c3fb74edb9f4     c4.large  30.276368   \n",
       "\n",
       "                                          testOption per-request-avg-time  \\\n",
       "0  --num-threads=2 --test=memory --memory-block-s...            1056.70ms   \n",
       "1  --num-threads=2 --test=memory --memory-block-s...            1081.08ms   \n",
       "2  --num-threads=2 --test=memory --memory-block-s...            1287.23ms   \n",
       "3  --num-threads=2 --test=memory --memory-block-s...            1275.88ms   \n",
       "4  --num-threads=2 --test=memory --memory-block-s...            1048.67ms   \n",
       "\n",
       "  total-time  thread-num  \n",
       "0   29.2595s           2  \n",
       "1   29.9024s           2  \n",
       "2   35.6990s           2  \n",
       "3   35.2930s           2  \n",
       "4   29.0292s           2  "
      ]
     },
     "execution_count": 267,
     "metadata": {},
     "output_type": "execute_result"
    }
   ],
   "source": [
    "df_data.head()"
   ]
  },
  {
   "cell_type": "code",
   "execution_count": 268,
   "metadata": {},
   "outputs": [],
   "source": [
    "#setup cols, metric for the relative experiment type\n",
    "def setUpMetrics(experimentName):\n",
    "    \n",
    "    if experimentName == 'pgbench':\n",
    "        cols = ['instanceID', 'setId', 'transactions']\n",
    "        metric = 'transactions'\n",
    "    elif experimentName == 'sysbench' or experimentName == 'y-cruncher':\n",
    "        cols = ['instanceID','setId','wallTime']\n",
    "        metric = 'wallTime'\n",
    "    elif experimentName == 'iperf':\n",
    "        df_data['Total'] = df_data['Upload'] + df_data['Download']\n",
    "        cols = ['instanceID','setId','Upload', 'Download', 'Total']\n",
    "        metric = 'Total'\n",
    "    else:\n",
    "        print('Illegal Experiment Name..')\n",
    "    return metric, cols"
   ]
  },
  {
   "cell_type": "code",
   "execution_count": 269,
   "metadata": {},
   "outputs": [
    {
     "name": "stdout",
     "output_type": "stream",
     "text": [
      "Illegal Experiment Name..\n"
     ]
    },
    {
     "ename": "UnboundLocalError",
     "evalue": "local variable 'metric' referenced before assignment",
     "output_type": "error",
     "traceback": [
      "\u001b[0;31m---------------------------------------------------------------------------\u001b[0m",
      "\u001b[0;31mUnboundLocalError\u001b[0m                         Traceback (most recent call last)",
      "\u001b[0;32m<ipython-input-269-cad0ad5b6a80>\u001b[0m in \u001b[0;36m<module>\u001b[0;34m\u001b[0m\n\u001b[1;32m      1\u001b[0m \u001b[0;31m#setup vars for each experiment time... i.e. wallTime vs transactions\u001b[0m\u001b[0;34m\u001b[0m\u001b[0;34m\u001b[0m\u001b[0;34m\u001b[0m\u001b[0m\n\u001b[1;32m      2\u001b[0m \u001b[0mexperimentName\u001b[0m \u001b[0;34m=\u001b[0m \u001b[0;34m'memory'\u001b[0m\u001b[0;34m\u001b[0m\u001b[0;34m\u001b[0m\u001b[0m\n\u001b[0;32m----> 3\u001b[0;31m \u001b[0mmetric\u001b[0m\u001b[0;34m,\u001b[0m \u001b[0mcols\u001b[0m \u001b[0;34m=\u001b[0m \u001b[0msetUpMetrics\u001b[0m\u001b[0;34m(\u001b[0m\u001b[0mexperimentName\u001b[0m\u001b[0;34m)\u001b[0m\u001b[0;34m\u001b[0m\u001b[0;34m\u001b[0m\u001b[0m\n\u001b[0m",
      "\u001b[0;32m<ipython-input-268-0427398573c2>\u001b[0m in \u001b[0;36msetUpMetrics\u001b[0;34m(experimentName)\u001b[0m\n\u001b[1;32m     14\u001b[0m     \u001b[0;32melse\u001b[0m\u001b[0;34m:\u001b[0m\u001b[0;34m\u001b[0m\u001b[0;34m\u001b[0m\u001b[0m\n\u001b[1;32m     15\u001b[0m         \u001b[0mprint\u001b[0m\u001b[0;34m(\u001b[0m\u001b[0;34m'Illegal Experiment Name..'\u001b[0m\u001b[0;34m)\u001b[0m\u001b[0;34m\u001b[0m\u001b[0;34m\u001b[0m\u001b[0m\n\u001b[0;32m---> 16\u001b[0;31m     \u001b[0;32mreturn\u001b[0m \u001b[0mmetric\u001b[0m\u001b[0;34m,\u001b[0m \u001b[0mcols\u001b[0m\u001b[0;34m\u001b[0m\u001b[0;34m\u001b[0m\u001b[0m\n\u001b[0m",
      "\u001b[0;31mUnboundLocalError\u001b[0m: local variable 'metric' referenced before assignment"
     ]
    }
   ],
   "source": [
    "#setup vars for each experiment time... i.e. wallTime vs transactions\n",
    "experimentName = 'sysbench'\n",
    "metric, cols = setUpMetrics(experimentName)"
   ]
  },
  {
   "cell_type": "code",
   "execution_count": null,
   "metadata": {},
   "outputs": [],
   "source": [
    "#create setId column\n",
    "df_data['setId'] = df_data['experimentID'].str.strip().str[-2:]\n",
    "df_data['setId'] = df_data['setId'].astype('int32').abs()"
   ]
  },
  {
   "cell_type": "code",
   "execution_count": null,
   "metadata": {},
   "outputs": [],
   "source": [
    "df_data.info()"
   ]
  },
  {
   "cell_type": "code",
   "execution_count": null,
   "metadata": {},
   "outputs": [],
   "source": [
    "df_data.tail()"
   ]
  },
  {
   "cell_type": "code",
   "execution_count": null,
   "metadata": {},
   "outputs": [],
   "source": [
    "#drop other columns\n",
    "df_data = df_data[cols]"
   ]
  },
  {
   "cell_type": "code",
   "execution_count": null,
   "metadata": {
    "scrolled": true
   },
   "outputs": [],
   "source": [
    "df_data.head()"
   ]
  },
  {
   "cell_type": "code",
   "execution_count": null,
   "metadata": {},
   "outputs": [],
   "source": [
    "df_data.describe()"
   ]
  },
  {
   "cell_type": "code",
   "execution_count": null,
   "metadata": {},
   "outputs": [],
   "source": [
    "df_data.info()"
   ]
  },
  {
   "cell_type": "code",
   "execution_count": null,
   "metadata": {
    "scrolled": true
   },
   "outputs": [],
   "source": [
    "#group by tenants / setId \n",
    "mean = df_data.groupby('setId').mean()\n",
    "mean.head()"
   ]
  },
  {
   "cell_type": "code",
   "execution_count": null,
   "metadata": {},
   "outputs": [],
   "source": [
    "#create result dataframe\n",
    "result_df = mean"
   ]
  },
  {
   "cell_type": "code",
   "execution_count": null,
   "metadata": {
    "scrolled": true
   },
   "outputs": [],
   "source": [
    "#create std, normalized data\n",
    "std = df_data.groupby('setId').std()\n",
    "std.head()"
   ]
  },
  {
   "cell_type": "code",
   "execution_count": null,
   "metadata": {},
   "outputs": [],
   "source": [
    "#add normalized column\n",
    "if experimentName == 'pgbench':\n",
    "    result_df['normalized'] = (result_df.loc[:,metric:]-result_df.iloc[-1][metric:]).div(result_df.iloc[-1][metric:])\n",
    "    result_df['normalized'] *= 100\n",
    "    result_df['normalized'] += 100\n",
    "else: \n",
    "    result_df['normalized'] = 1 - (result_df.loc[:,metric:]-result_df.iloc[-1][metric:]).div(result_df.iloc[-1][metric:])\n",
    "    result_df['normalized'] *= 100\n",
    "\n",
    "result_df['normalized'] = result_df['normalized'].round(2).astype(str) + '%'"
   ]
  },
  {
   "cell_type": "code",
   "execution_count": null,
   "metadata": {
    "scrolled": true
   },
   "outputs": [],
   "source": [
    "result_df.head()"
   ]
  },
  {
   "cell_type": "code",
   "execution_count": null,
   "metadata": {},
   "outputs": [],
   "source": [
    "#add std column\n",
    "result_df['std'] = std"
   ]
  },
  {
   "cell_type": "code",
   "execution_count": null,
   "metadata": {
    "scrolled": true
   },
   "outputs": [],
   "source": [
    "#reverse table\n",
    "result_df=result_df.iloc[::-1]"
   ]
  },
  {
   "cell_type": "code",
   "execution_count": null,
   "metadata": {},
   "outputs": [],
   "source": [
    "#add tenants\n",
    "result_df['tenants'] = np.arange(len(result_df))+1"
   ]
  },
  {
   "cell_type": "code",
   "execution_count": null,
   "metadata": {},
   "outputs": [],
   "source": [
    "#rearrange columns\n",
    "cols = ['tenants', metric, 'std', 'normalized']"
   ]
  },
  {
   "cell_type": "code",
   "execution_count": null,
   "metadata": {},
   "outputs": [],
   "source": [
    "result_df = result_df[cols]"
   ]
  },
  {
   "cell_type": "code",
   "execution_count": null,
   "metadata": {},
   "outputs": [],
   "source": [
    "#add % to normalized"
   ]
  },
  {
   "cell_type": "code",
   "execution_count": null,
   "metadata": {
    "scrolled": true
   },
   "outputs": [],
   "source": [
    "result_df"
   ]
  },
  {
   "cell_type": "code",
   "execution_count": null,
   "metadata": {},
   "outputs": [],
   "source": [
    "#print to csv\n",
    "result_df.to_csv( path_or_buf='./data/summary/' + data_name + '-Summary.csv')"
   ]
  },
  {
   "cell_type": "code",
   "execution_count": null,
   "metadata": {},
   "outputs": [],
   "source": [
    "# graph tenants vs wallTime"
   ]
  }
 ],
 "metadata": {
  "kernelspec": {
   "display_name": "Python 3",
   "language": "python",
   "name": "python3"
  },
  "language_info": {
   "codemirror_mode": {
    "name": "ipython",
    "version": 3
   },
   "file_extension": ".py",
   "mimetype": "text/x-python",
   "name": "python",
   "nbconvert_exporter": "python",
   "pygments_lexer": "ipython3",
   "version": "3.6.8"
  }
 },
 "nbformat": 4,
 "nbformat_minor": 2
}
