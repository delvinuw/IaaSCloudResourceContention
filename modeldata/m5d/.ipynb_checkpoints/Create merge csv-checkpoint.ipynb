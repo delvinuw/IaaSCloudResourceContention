{
 "cells": [
  {
   "cell_type": "markdown",
   "metadata": {},
   "source": [
    "---\n",
    "author: Delvin Mackenzie\n",
    "date: 11/19/2019\n",
    "contact: delvin@uw.edu\n",
    "\n",
    "---\n",
    "\n"
   ]
  },
  {
   "cell_type": "code",
   "execution_count": 2,
   "metadata": {},
   "outputs": [],
   "source": [
    "#Math stuff\n",
    "from numpy.random import seed\n",
    "from numpy.random import randn\n",
    "from scipy import stats\n",
    "import numpy as np\n",
    "import math  \n",
    "\n",
    "#Visualization stuff\n",
    "import seaborn as sns\n",
    "#sns.set(style=\"darkgrid\")\n",
    "sns.set(style=\"whitegrid\")\n",
    "from matplotlib import pyplot as plt\n",
    "\n",
    "import pandas as pd\n",
    "import os\n",
    "\n",
    "#ML stuff\n",
    "from sklearn import preprocessing"
   ]
  },
  {
   "cell_type": "code",
   "execution_count": 1,
   "metadata": {},
   "outputs": [],
   "source": [
    "#create merge.csv"
   ]
  },
  {
   "cell_type": "code",
   "execution_count": 6,
   "metadata": {},
   "outputs": [
    {
     "name": "stdout",
     "output_type": "stream",
     "text": [
      "['newdata_iperf_m5d_48 - newdata_iperf_m5d_48.csv', 'm5d-no-idle-dedicated-host-11-07-2019 - newdata.csv', 'y_cruncher_08_22_2019 - y_cruncher_08_22_2019.csv', 'm5d_48vms_pgbench_no_idle_11_11_2019 - Data.csv']\n"
     ]
    }
   ],
   "source": [
    "#check list of files in data \n",
    "directory = \"./data/dedicated_host/merge_data/\"\n",
    "print(os.listdir(directory))"
   ]
  },
  {
   "cell_type": "code",
   "execution_count": 82,
   "metadata": {},
   "outputs": [],
   "source": [
    "#import the 4 benchmarks\n",
    "data_sysbench = 'm5d-no-idle-dedicated-host-11-07-2019 - newdata.csv'\n",
    "data_iperf = 'newdata_iperf_m5d_48 - newdata_iperf_m5d_48.csv'\n",
    "data_y_cruncher = 'y_cruncher_08_22_2019 - y_cruncher_08_22_2019.csv'\n",
    "data_pgbench ='m5d_48vms_pgbench_no_idle_11_11_2019 - Data.csv'"
   ]
  },
  {
   "cell_type": "code",
   "execution_count": 92,
   "metadata": {},
   "outputs": [],
   "source": [
    "#TODO: configure header values accordingly...\n",
    "df_sysbench = pd.read_csv(directory + data_sysbench, header = 1)\n",
    "df_iperf = pd.read_csv(directory + data_iperf, header = 0)\n",
    "df_y_cruncher = pd.read_csv(directory + data_y_cruncher, header = 0)\n",
    "df_pgbench = pd.read_csv(directory + data_pgbench, header = 1)"
   ]
  },
  {
   "cell_type": "code",
   "execution_count": 125,
   "metadata": {
    "scrolled": true
   },
   "outputs": [],
   "source": [
    "#y-cruncher typo in header...adjust it...\n",
    "df_y_cruncher['setId'] = df_y_cruncher['setid']"
   ]
  },
  {
   "cell_type": "code",
   "execution_count": 141,
   "metadata": {},
   "outputs": [],
   "source": [
    "def cleanAndReturnDf(df, experiment_type, col, n_rows = 3, vm_count = 48):\n",
    "    ''' returns cleaned df with n rows sampled randomly. \n",
    "        also drops the first row of each run since they are often outliers.\n",
    "    '''\n",
    "    \n",
    "    df = df[col]\n",
    "    df = df.dropna()\n",
    "    \n",
    "    #sort by setId and instanceID\n",
    "    df = df.sort_values(by = ['setId','instanceID'], ascending=False)\n",
    "    \n",
    "    #iperf doesn't need so skip this part\n",
    "    if (experiment_type != 'iperf'):\n",
    "        \n",
    "        df['vmId'] = pd.factorize(df.instanceID)[0] + 1 #replace instanceID with numerical vmID\n",
    "        \n",
    "        df = df.sort_values(by = ['setId','vmId'])\n",
    "        df = df.drop(columns=['instanceID'])\n",
    "        \n",
    "        #finally reverse setId to match eds version! \n",
    "        df['setId'] = pd.factorize(df.setId)[0]- vm_count + 1\n",
    "        #absolute value\n",
    "        df['setId'] = df['setId'].abs()\n",
    "\n",
    "        #add + 1 for off by 1 error\n",
    "        df['setId'] += 1\n",
    "\n",
    "    df = df.sort_values(by = ['setId','vmId'])\n",
    "    df = df.reset_index(drop=True)\n",
    "\n",
    "    #set nth column #change depending on data set...\n",
    "    if (experiment_type == 'iperf'):\n",
    "        nth_column = 11\n",
    "    elif (experiment_type != 'pgbench'):\n",
    "        nth_column = 10\n",
    "    \n",
    "    #drop every nth row\n",
    "    if (experiment_type != 'pgbench'):\n",
    "        df = df[df.index % nth_column != 0]\n",
    "        \n",
    "        #sample of n_rows to match pgbench row count\n",
    "        df = df.groupby(['setId', 'vmId']).apply(pd.DataFrame.sample, n=n_rows, random_state=19).reset_index(drop=True)\n",
    "    \n",
    "    return df"
   ]
  },
  {
   "cell_type": "code",
   "execution_count": 142,
   "metadata": {},
   "outputs": [],
   "source": [
    "#created cleaned dataframes for each benchmark\n",
    "df_iperf_clean = cleanAndReturnDf(df_iperf, 'iperf', ['Total','setId','vmId', 'instanceID'])\n",
    "df_sysbench_clean = cleanAndReturnDf(df_sysbench, 'sysbench', ['setId', 'wallTime', 'instanceID'])\n",
    "df_pgbench_clean = cleanAndReturnDf(df_pgbench, 'pgbench', ['setId', 'transactions', 'instanceID'])\n",
    "df_y_cruncher_clean = cleanAndReturnDf(df_y_cruncher, 'y-cruncher', ['setId','wallTime','instanceID'])\n"
   ]
  },
  {
   "cell_type": "code",
   "execution_count": 143,
   "metadata": {
    "scrolled": true
   },
   "outputs": [],
   "source": [
    "#create df for merge.csv\n",
    "df_merge = df_sysbench_clean"
   ]
  },
  {
   "cell_type": "code",
   "execution_count": 149,
   "metadata": {},
   "outputs": [],
   "source": [
    "df_merge = df_merge.rename(columns={\"wallTime\": \"sysbench\"})"
   ]
  },
  {
   "cell_type": "code",
   "execution_count": 152,
   "metadata": {},
   "outputs": [],
   "source": [
    "df_merge['iperf'] = df_iperf_clean['Total']\n",
    "df_merge['pgbench'] = df_pgbench_clean['transactions']\n",
    "df_merge['ycruncher'] = df_y_cruncher_clean['wallTime']"
   ]
  },
  {
   "cell_type": "code",
   "execution_count": 156,
   "metadata": {},
   "outputs": [],
   "source": [
    "col = ['iperf', 'sysbench', 'ycruncher', 'pgbench', 'setId', 'vmId']\n",
    "df_merge = df_merge[col]"
   ]
  },
  {
   "cell_type": "code",
   "execution_count": 157,
   "metadata": {},
   "outputs": [
    {
     "data": {
      "text/html": [
       "<div>\n",
       "<style scoped>\n",
       "    .dataframe tbody tr th:only-of-type {\n",
       "        vertical-align: middle;\n",
       "    }\n",
       "\n",
       "    .dataframe tbody tr th {\n",
       "        vertical-align: top;\n",
       "    }\n",
       "\n",
       "    .dataframe thead th {\n",
       "        text-align: right;\n",
       "    }\n",
       "</style>\n",
       "<table border=\"1\" class=\"dataframe\">\n",
       "  <thead>\n",
       "    <tr style=\"text-align: right;\">\n",
       "      <th></th>\n",
       "      <th>iperf</th>\n",
       "      <th>sysbench</th>\n",
       "      <th>ycruncher</th>\n",
       "      <th>pgbench</th>\n",
       "      <th>setId</th>\n",
       "      <th>vmId</th>\n",
       "    </tr>\n",
       "  </thead>\n",
       "  <tbody>\n",
       "    <tr>\n",
       "      <th>0</th>\n",
       "      <td>18.32</td>\n",
       "      <td>7.172616</td>\n",
       "      <td>4.384688</td>\n",
       "      <td>185811</td>\n",
       "      <td>1</td>\n",
       "      <td>1</td>\n",
       "    </tr>\n",
       "    <tr>\n",
       "      <th>1</th>\n",
       "      <td>18.35</td>\n",
       "      <td>7.172229</td>\n",
       "      <td>4.371897</td>\n",
       "      <td>185256</td>\n",
       "      <td>1</td>\n",
       "      <td>1</td>\n",
       "    </tr>\n",
       "    <tr>\n",
       "      <th>2</th>\n",
       "      <td>18.32</td>\n",
       "      <td>7.172506</td>\n",
       "      <td>4.415437</td>\n",
       "      <td>185510</td>\n",
       "      <td>1</td>\n",
       "      <td>1</td>\n",
       "    </tr>\n",
       "    <tr>\n",
       "      <th>3</th>\n",
       "      <td>17.26</td>\n",
       "      <td>7.176181</td>\n",
       "      <td>4.444210</td>\n",
       "      <td>185058</td>\n",
       "      <td>2</td>\n",
       "      <td>1</td>\n",
       "    </tr>\n",
       "    <tr>\n",
       "      <th>4</th>\n",
       "      <td>17.6</td>\n",
       "      <td>7.172425</td>\n",
       "      <td>4.462397</td>\n",
       "      <td>184964</td>\n",
       "      <td>2</td>\n",
       "      <td>1</td>\n",
       "    </tr>\n",
       "  </tbody>\n",
       "</table>\n",
       "</div>"
      ],
      "text/plain": [
       "   iperf  sysbench  ycruncher pgbench  setId  vmId\n",
       "0  18.32  7.172616   4.384688  185811      1     1\n",
       "1  18.35  7.172229   4.371897  185256      1     1\n",
       "2  18.32  7.172506   4.415437  185510      1     1\n",
       "3  17.26  7.176181   4.444210  185058      2     1\n",
       "4   17.6  7.172425   4.462397  184964      2     1"
      ]
     },
     "execution_count": 157,
     "metadata": {},
     "output_type": "execute_result"
    }
   ],
   "source": [
    "df_merge.head()"
   ]
  },
  {
   "cell_type": "code",
   "execution_count": 159,
   "metadata": {},
   "outputs": [
    {
     "data": {
      "text/html": [
       "<div>\n",
       "<style scoped>\n",
       "    .dataframe tbody tr th:only-of-type {\n",
       "        vertical-align: middle;\n",
       "    }\n",
       "\n",
       "    .dataframe tbody tr th {\n",
       "        vertical-align: top;\n",
       "    }\n",
       "\n",
       "    .dataframe thead th {\n",
       "        text-align: right;\n",
       "    }\n",
       "</style>\n",
       "<table border=\"1\" class=\"dataframe\">\n",
       "  <thead>\n",
       "    <tr style=\"text-align: right;\">\n",
       "      <th></th>\n",
       "      <th>sysbench</th>\n",
       "      <th>ycruncher</th>\n",
       "      <th>setId</th>\n",
       "      <th>vmId</th>\n",
       "    </tr>\n",
       "  </thead>\n",
       "  <tbody>\n",
       "    <tr>\n",
       "      <th>count</th>\n",
       "      <td>3528.000000</td>\n",
       "      <td>3528.000000</td>\n",
       "      <td>3528.000000</td>\n",
       "      <td>3528.000000</td>\n",
       "    </tr>\n",
       "    <tr>\n",
       "      <th>mean</th>\n",
       "      <td>8.461232</td>\n",
       "      <td>5.763750</td>\n",
       "      <td>32.333333</td>\n",
       "      <td>16.666667</td>\n",
       "    </tr>\n",
       "    <tr>\n",
       "      <th>std</th>\n",
       "      <td>0.566776</td>\n",
       "      <td>0.588269</td>\n",
       "      <td>11.427711</td>\n",
       "      <td>11.427711</td>\n",
       "    </tr>\n",
       "    <tr>\n",
       "      <th>min</th>\n",
       "      <td>7.172215</td>\n",
       "      <td>4.371897</td>\n",
       "      <td>1.000000</td>\n",
       "      <td>1.000000</td>\n",
       "    </tr>\n",
       "    <tr>\n",
       "      <th>25%</th>\n",
       "      <td>8.004919</td>\n",
       "      <td>5.454348</td>\n",
       "      <td>24.000000</td>\n",
       "      <td>7.000000</td>\n",
       "    </tr>\n",
       "    <tr>\n",
       "      <th>50%</th>\n",
       "      <td>8.773572</td>\n",
       "      <td>5.597796</td>\n",
       "      <td>34.000000</td>\n",
       "      <td>15.000000</td>\n",
       "    </tr>\n",
       "    <tr>\n",
       "      <th>75%</th>\n",
       "      <td>9.045796</td>\n",
       "      <td>6.372122</td>\n",
       "      <td>42.000000</td>\n",
       "      <td>25.000000</td>\n",
       "    </tr>\n",
       "    <tr>\n",
       "      <th>max</th>\n",
       "      <td>9.187299</td>\n",
       "      <td>6.933911</td>\n",
       "      <td>48.000000</td>\n",
       "      <td>48.000000</td>\n",
       "    </tr>\n",
       "  </tbody>\n",
       "</table>\n",
       "</div>"
      ],
      "text/plain": [
       "          sysbench    ycruncher        setId         vmId\n",
       "count  3528.000000  3528.000000  3528.000000  3528.000000\n",
       "mean      8.461232     5.763750    32.333333    16.666667\n",
       "std       0.566776     0.588269    11.427711    11.427711\n",
       "min       7.172215     4.371897     1.000000     1.000000\n",
       "25%       8.004919     5.454348    24.000000     7.000000\n",
       "50%       8.773572     5.597796    34.000000    15.000000\n",
       "75%       9.045796     6.372122    42.000000    25.000000\n",
       "max       9.187299     6.933911    48.000000    48.000000"
      ]
     },
     "execution_count": 159,
     "metadata": {},
     "output_type": "execute_result"
    }
   ],
   "source": [
    "df_merge.describe()"
   ]
  },
  {
   "cell_type": "code",
   "execution_count": 160,
   "metadata": {},
   "outputs": [
    {
     "name": "stdout",
     "output_type": "stream",
     "text": [
      "<class 'pandas.core.frame.DataFrame'>\n",
      "RangeIndex: 3528 entries, 0 to 3527\n",
      "Data columns (total 6 columns):\n",
      "iperf        3528 non-null object\n",
      "sysbench     3528 non-null float64\n",
      "ycruncher    3528 non-null float64\n",
      "pgbench      3528 non-null object\n",
      "setId        3528 non-null int64\n",
      "vmId         3528 non-null int64\n",
      "dtypes: float64(2), int64(2), object(2)\n",
      "memory usage: 165.5+ KB\n"
     ]
    }
   ],
   "source": [
    "df_merge.info()"
   ]
  },
  {
   "cell_type": "code",
   "execution_count": 161,
   "metadata": {},
   "outputs": [],
   "source": [
    "#print to csv\n",
    "df_merge.to_csv(path_or_buf= directory + 'merged.csv')"
   ]
  },
  {
   "cell_type": "code",
   "execution_count": null,
   "metadata": {},
   "outputs": [],
   "source": []
  },
  {
   "cell_type": "code",
   "execution_count": 52,
   "metadata": {},
   "outputs": [],
   "source": [
    "# col = ['setId', 'wallTime', 'instanceID']"
   ]
  },
  {
   "cell_type": "code",
   "execution_count": 58,
   "metadata": {},
   "outputs": [],
   "source": [
    "#filter by relevant columns\n",
    "# df = df_sysbench[col]"
   ]
  },
  {
   "cell_type": "code",
   "execution_count": 61,
   "metadata": {},
   "outputs": [],
   "source": [
    "# df.dropna(inplace=True)"
   ]
  },
  {
   "cell_type": "code",
   "execution_count": 59,
   "metadata": {},
   "outputs": [],
   "source": [
    "#sort by setId and instanceID\n",
    "# df.sort_values(by = ['setId','instanceID'], ascending=False, inplace=True)"
   ]
  },
  {
   "cell_type": "code",
   "execution_count": 60,
   "metadata": {},
   "outputs": [],
   "source": [
    "#replace instanceID with numerical vmID\n",
    "# df['vmId'] = pd.factorize(df.instanceID)[0] + 1"
   ]
  },
  {
   "cell_type": "code",
   "execution_count": 62,
   "metadata": {},
   "outputs": [],
   "source": [
    "#sort by vmId then setId \n",
    "# df.sort_values(by = ['setId','vmId'], inplace=True)"
   ]
  },
  {
   "cell_type": "code",
   "execution_count": 64,
   "metadata": {},
   "outputs": [],
   "source": [
    "#drop instanceID\n",
    "# df.drop(columns=['instanceID'], inplace=True)"
   ]
  },
  {
   "cell_type": "code",
   "execution_count": 68,
   "metadata": {},
   "outputs": [],
   "source": [
    "# #finally reverse setId to match eds version! \n",
    "# #change 48 if necessary to match vm count\n",
    "# vm_count = 48\n",
    "# df['setId'] = pd.factorize(df.setId)[0]- vm_count + 1\n",
    "# #absolute value\n",
    "# df['setId'] = df['setId'].abs()"
   ]
  },
  {
   "cell_type": "code",
   "execution_count": 72,
   "metadata": {},
   "outputs": [],
   "source": [
    "#add + 1 for off by 1 error\n",
    "# df['setId'] += 1"
   ]
  },
  {
   "cell_type": "code",
   "execution_count": 73,
   "metadata": {},
   "outputs": [],
   "source": [
    "# df.sort_values(by = ['setId','vmId'], inplace=True)\n",
    "# df.reset_index(drop=True, inplace=True)"
   ]
  },
  {
   "cell_type": "code",
   "execution_count": 75,
   "metadata": {
    "scrolled": true
   },
   "outputs": [],
   "source": [
    "# experiment_type = 'sysbench'"
   ]
  },
  {
   "cell_type": "code",
   "execution_count": 76,
   "metadata": {},
   "outputs": [],
   "source": [
    "# #drop every nth row...\n",
    "# #set nth column #change depending on data set...\n",
    "# if (experiment_type == 'iperf'):\n",
    "#     nth_column = 11\n",
    "# #     if (not dedicated_host_mode):\n",
    "# #         df_data = df_data[:551] #drop every run except first run\n",
    "# elif (experiment_type != 'pgbench'):\n",
    "#     nth_column = 10"
   ]
  },
  {
   "cell_type": "code",
   "execution_count": 77,
   "metadata": {},
   "outputs": [],
   "source": [
    "# #drop every nth column\n",
    "# #drop first row of each vm run since they are outliers (except pgbench)\n",
    "# if (experiment_type != 'pgbench'):\n",
    "#     df = df[df.index % nth_column != 0]"
   ]
  },
  {
   "cell_type": "code",
   "execution_count": 79,
   "metadata": {},
   "outputs": [],
   "source": [
    "# #take a sample of 3 for the 3 bench marks...\n",
    "# #drop all but 3 rows? since pgbench only has 3 rows?\n",
    "# n_rows = 3\n",
    "# df = df.groupby(['setId', 'vmId']).apply(pd.DataFrame.sample, n=n_rows, random_state=19).reset_index(drop=True)"
   ]
  },
  {
   "cell_type": "code",
   "execution_count": 158,
   "metadata": {
    "scrolled": true
   },
   "outputs": [],
   "source": [
    "# df.head()"
   ]
  },
  {
   "cell_type": "code",
   "execution_count": null,
   "metadata": {},
   "outputs": [],
   "source": [
    "#drop all but 3 rows? since pgbench only has 3 rows?\n",
    "#df.groupby('Group_Id').apply(pd.DataFrame.sample, n=1).reset_index(drop=True)"
   ]
  },
  {
   "cell_type": "code",
   "execution_count": null,
   "metadata": {},
   "outputs": [],
   "source": [
    "#export to csv"
   ]
  }
 ],
 "metadata": {
  "kernelspec": {
   "display_name": "Python 3",
   "language": "python",
   "name": "python3"
  },
  "language_info": {
   "codemirror_mode": {
    "name": "ipython",
    "version": 3
   },
   "file_extension": ".py",
   "mimetype": "text/x-python",
   "name": "python",
   "nbconvert_exporter": "python",
   "pygments_lexer": "ipython3",
   "version": "3.6.8"
  }
 },
 "nbformat": 4,
 "nbformat_minor": 2
}
