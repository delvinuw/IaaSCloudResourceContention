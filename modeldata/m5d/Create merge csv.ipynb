{
 "cells": [
  {
   "cell_type": "markdown",
   "metadata": {},
   "source": [
    "---\n",
    "author: Delvin Mackenzie\n",
    "date: 11/19/2019\n",
    "contact: delvin@uw.edu\n",
    "\n",
    "---\n",
    "\n"
   ]
  },
  {
   "cell_type": "code",
   "execution_count": 5,
   "metadata": {},
   "outputs": [],
   "source": [
    "#Math stuff\n",
    "from numpy.random import seed\n",
    "from numpy.random import randn\n",
    "from scipy import stats\n",
    "import numpy as np\n",
    "import math  \n",
    "\n",
    "#Visualization stuff\n",
    "import seaborn as sns\n",
    "#sns.set(style=\"darkgrid\")\n",
    "sns.set(style=\"whitegrid\")\n",
    "from matplotlib import pyplot as plt\n",
    "\n",
    "import pandas as pd\n",
    "import os\n",
    "\n",
    "#ML stuff\n",
    "from sklearn import preprocessing"
   ]
  },
  {
   "cell_type": "code",
   "execution_count": 6,
   "metadata": {},
   "outputs": [],
   "source": [
    "#create merge.csv"
   ]
  },
  {
   "cell_type": "code",
   "execution_count": 101,
   "metadata": {},
   "outputs": [
    {
     "name": "stdout",
     "output_type": "stream",
     "text": [
      "['merged_11-16-2019.csv', 'm5d_pgbench_dedicated_host_11-16-2019.csv', 'm5d_y-cruncher_dedicated_host_11-16-2019_us-east-1 - Sheet1.csv', 'm5d_iperf_dedicated_host_11-17.csv', 'm5d_sysbench_dedicated_host_11-16-2019_us-east-1b - Sheet1.csv']\n"
     ]
    }
   ],
   "source": [
    "#check list of files in data \n",
    "directory = \"./data/dedicated_host/11-16-2019/\"\n",
    "print(os.listdir(directory))"
   ]
  },
  {
   "cell_type": "code",
   "execution_count": 102,
   "metadata": {},
   "outputs": [],
   "source": [
    "#import the 4 benchmarks\n",
    "data_sysbench = 'm5d_sysbench_dedicated_host_11-16-2019_us-east-1b - Sheet1.csv'\n",
    "data_iperf = 'm5d_iperf_dedicated_host_11-17.csv'\n",
    "data_y_cruncher = 'm5d_y-cruncher_dedicated_host_11-16-2019_us-east-1 - Sheet1.csv'\n",
    "data_pgbench ='m5d_pgbench_dedicated_host_11-16-2019.csv'"
   ]
  },
  {
   "cell_type": "code",
   "execution_count": 103,
   "metadata": {},
   "outputs": [],
   "source": [
    "#TODO: configure header values accordingly...\n",
    "df_sysbench = pd.read_csv(directory + data_sysbench, header = 1)\n",
    "df_iperf = pd.read_csv(directory + data_iperf, header = 0)\n",
    "df_y_cruncher = pd.read_csv(directory + data_y_cruncher, header = 1)\n",
    "df_pgbench = pd.read_csv(directory + data_pgbench, header = 0)"
   ]
  },
  {
   "cell_type": "code",
   "execution_count": null,
   "metadata": {},
   "outputs": [],
   "source": []
  },
  {
   "cell_type": "code",
   "execution_count": 104,
   "metadata": {},
   "outputs": [],
   "source": [
    "#create total time for iperf, if needed\n",
    "\n",
    "#strip trailing text\n",
    "df_iperf['bandwidthUpload'] = df_iperf['bandwidthUpload'].str.split(\" \").str[0].astype('float64')\n",
    "df_iperf['bandwitdhDownload'] = df_iperf['bandwitdhDownload'].str.split(\" \").str[0].astype('float64')\n",
    "    \n",
    "#adjust gigbite values 'up' assuming all mbs values are over 100mb\n",
    "df_iperf['bandwitdhDownload'] = np.where(df_iperf['bandwitdhDownload'] > 100, df_iperf['bandwitdhDownload'], df_iperf['bandwitdhDownload']*1000)\n",
    "df_iperf['bandwidthUpload'] = np.where(df_iperf['bandwidthUpload'] > 100, df_iperf['bandwidthUpload'], df_iperf['bandwidthUpload']*1000)\n",
    "\n",
    "#add total bandwidth column\n",
    "df_iperf['total'] = df_iperf['bandwidthUpload'] + df_iperf['bandwitdhDownload']\n",
    "\n",
    "#change to GB\n",
    "#df_iperf['total'] = df_iperf['total'].astype('float64')/1000"
   ]
  },
  {
   "cell_type": "code",
   "execution_count": null,
   "metadata": {
    "scrolled": true
   },
   "outputs": [],
   "source": []
  },
  {
   "cell_type": "code",
   "execution_count": 106,
   "metadata": {
    "scrolled": true
   },
   "outputs": [],
   "source": [
    "#y-cruncher typo in header...adjust it...\n",
    "#df_y_cruncher['setId'] = df_y_cruncher['setid']"
   ]
  },
  {
   "cell_type": "code",
   "execution_count": 107,
   "metadata": {},
   "outputs": [],
   "source": [
    "def cleanAndReturnDf(df, experiment_type, col, n_rows = 3, vm_count = 48):\n",
    "    ''' returns cleaned df with n rows sampled randomly. \n",
    "        also drops the first row of each run since they are often outliers.\n",
    "    '''\n",
    "    \n",
    "    df = df.dropna(how='all')\n",
    "    \n",
    "    #add set Ids for pgbench,sysbench,y-cruncher\n",
    "    if (experiment_type != 'iperf'):\n",
    "        #df = df.dropna()\n",
    "        #create setId column\n",
    "        df['setId'] = df['experimentID'].str.strip().str[-2:]\n",
    "        df['setId'] = df['setId'].astype('int32').abs()\n",
    "    \n",
    "    df = df[col]\n",
    "    \n",
    "    #sort by setId and instanceID\n",
    "    df = df.sort_values(by = ['setId','instanceID'], ascending=False)\n",
    "    \n",
    "    #iperf doesn't need so skip this part\n",
    "    if (experiment_type != 'iperf'):\n",
    "        \n",
    "        df['vmId'] = pd.factorize(df.instanceID)[0] + 1 #replace instanceID with numerical vmID\n",
    "        \n",
    "        df = df.sort_values(by = ['setId','vmId'])\n",
    "        df = df.drop(columns=['instanceID'])\n",
    "        \n",
    "        #finally reverse setId to match eds version! \n",
    "        df['setId'] = pd.factorize(df.setId)[0]- vm_count + 1\n",
    "        #absolute value\n",
    "        df['setId'] = df['setId'].abs()\n",
    "\n",
    "        #add + 1 for off by 1 error\n",
    "        df['setId'] += 1\n",
    "\n",
    "    df = df.sort_values(by = ['setId','vmId'])\n",
    "    df = df.reset_index(drop=True)\n",
    "\n",
    "    #set nth column #change depending on data set...\n",
    "    if (experiment_type == 'iperf'):\n",
    "        nth_column = 11\n",
    "    elif (experiment_type != 'pgbench'):\n",
    "        nth_column = 10\n",
    "    \n",
    "    #drop every nth row\n",
    "    if (experiment_type != 'pgbench'):\n",
    "        df = df[df.index % nth_column != 0]\n",
    "        \n",
    "        #sample of n_rows to match pgbench row count\n",
    "        df = df.groupby(['setId', 'vmId']).apply(pd.DataFrame.sample, n=n_rows, random_state=19).reset_index(drop=True)\n",
    "    \n",
    "    return df"
   ]
  },
  {
   "cell_type": "code",
   "execution_count": 108,
   "metadata": {},
   "outputs": [],
   "source": [
    "#create cleaned dataframes for each benchmark\n",
    "df_iperf_clean = cleanAndReturnDf(df_iperf, 'iperf', ['total','setId','vmId', 'instanceID'])\n",
    "df_sysbench_clean = cleanAndReturnDf(df_sysbench, 'sysbench', ['setId', 'wallTime', 'instanceID'])\n",
    "df_pgbench_clean = cleanAndReturnDf(df_pgbench, 'pgbench', ['setId', 'transactions', 'instanceID'])\n",
    "df_y_cruncher_clean = cleanAndReturnDf(df_y_cruncher, 'y-cruncher', ['setId','wallTime','instanceID'])\n"
   ]
  },
  {
   "cell_type": "code",
   "execution_count": 109,
   "metadata": {
    "scrolled": true
   },
   "outputs": [],
   "source": [
    "#create df for merge.csv\n",
    "df_merge = df_sysbench_clean"
   ]
  },
  {
   "cell_type": "code",
   "execution_count": null,
   "metadata": {
    "scrolled": true
   },
   "outputs": [],
   "source": []
  },
  {
   "cell_type": "code",
   "execution_count": 111,
   "metadata": {},
   "outputs": [],
   "source": [
    "df_merge = df_merge.rename(columns={\"wallTime\": \"sysbench\"})"
   ]
  },
  {
   "cell_type": "code",
   "execution_count": 112,
   "metadata": {},
   "outputs": [],
   "source": [
    "df_merge['iperf'] = df_iperf_clean['total']\n",
    "df_merge['pgbench'] = df_pgbench_clean['transactions']\n",
    "df_merge['ycruncher'] = df_y_cruncher_clean['wallTime']"
   ]
  },
  {
   "cell_type": "code",
   "execution_count": 113,
   "metadata": {},
   "outputs": [],
   "source": [
    "col = ['iperf', 'sysbench', 'ycruncher', 'pgbench', 'setId', 'vmId']\n",
    "df_merge = df_merge[col]"
   ]
  },
  {
   "cell_type": "code",
   "execution_count": 114,
   "metadata": {},
   "outputs": [
    {
     "data": {
      "text/html": [
       "<div>\n",
       "<style scoped>\n",
       "    .dataframe tbody tr th:only-of-type {\n",
       "        vertical-align: middle;\n",
       "    }\n",
       "\n",
       "    .dataframe tbody tr th {\n",
       "        vertical-align: top;\n",
       "    }\n",
       "\n",
       "    .dataframe thead th {\n",
       "        text-align: right;\n",
       "    }\n",
       "</style>\n",
       "<table border=\"1\" class=\"dataframe\">\n",
       "  <thead>\n",
       "    <tr style=\"text-align: right;\">\n",
       "      <th></th>\n",
       "      <th>iperf</th>\n",
       "      <th>sysbench</th>\n",
       "      <th>ycruncher</th>\n",
       "      <th>pgbench</th>\n",
       "      <th>setId</th>\n",
       "      <th>vmId</th>\n",
       "    </tr>\n",
       "  </thead>\n",
       "  <tbody>\n",
       "    <tr>\n",
       "      <th>0</th>\n",
       "      <td>9640.0</td>\n",
       "      <td>7.179230</td>\n",
       "      <td>4.402891</td>\n",
       "      <td>179240</td>\n",
       "      <td>1</td>\n",
       "      <td>1</td>\n",
       "    </tr>\n",
       "    <tr>\n",
       "      <th>1</th>\n",
       "      <td>9940.0</td>\n",
       "      <td>7.173129</td>\n",
       "      <td>4.458205</td>\n",
       "      <td>178584</td>\n",
       "      <td>1</td>\n",
       "      <td>1</td>\n",
       "    </tr>\n",
       "    <tr>\n",
       "      <th>2</th>\n",
       "      <td>9020.0</td>\n",
       "      <td>7.175981</td>\n",
       "      <td>4.436651</td>\n",
       "      <td>179612</td>\n",
       "      <td>1</td>\n",
       "      <td>1</td>\n",
       "    </tr>\n",
       "    <tr>\n",
       "      <th>3</th>\n",
       "      <td>9760.0</td>\n",
       "      <td>7.187608</td>\n",
       "      <td>4.508560</td>\n",
       "      <td>179345</td>\n",
       "      <td>2</td>\n",
       "      <td>1</td>\n",
       "    </tr>\n",
       "    <tr>\n",
       "      <th>4</th>\n",
       "      <td>9940.0</td>\n",
       "      <td>7.177871</td>\n",
       "      <td>4.482959</td>\n",
       "      <td>179119</td>\n",
       "      <td>2</td>\n",
       "      <td>1</td>\n",
       "    </tr>\n",
       "  </tbody>\n",
       "</table>\n",
       "</div>"
      ],
      "text/plain": [
       "    iperf  sysbench  ycruncher  pgbench  setId  vmId\n",
       "0  9640.0  7.179230   4.402891   179240      1     1\n",
       "1  9940.0  7.173129   4.458205   178584      1     1\n",
       "2  9020.0  7.175981   4.436651   179612      1     1\n",
       "3  9760.0  7.187608   4.508560   179345      2     1\n",
       "4  9940.0  7.177871   4.482959   179119      2     1"
      ]
     },
     "execution_count": 114,
     "metadata": {},
     "output_type": "execute_result"
    }
   ],
   "source": [
    "df_merge.head()"
   ]
  },
  {
   "cell_type": "code",
   "execution_count": 115,
   "metadata": {},
   "outputs": [
    {
     "data": {
      "text/html": [
       "<div>\n",
       "<style scoped>\n",
       "    .dataframe tbody tr th:only-of-type {\n",
       "        vertical-align: middle;\n",
       "    }\n",
       "\n",
       "    .dataframe tbody tr th {\n",
       "        vertical-align: top;\n",
       "    }\n",
       "\n",
       "    .dataframe thead th {\n",
       "        text-align: right;\n",
       "    }\n",
       "</style>\n",
       "<table border=\"1\" class=\"dataframe\">\n",
       "  <thead>\n",
       "    <tr style=\"text-align: right;\">\n",
       "      <th></th>\n",
       "      <th>iperf</th>\n",
       "      <th>sysbench</th>\n",
       "      <th>ycruncher</th>\n",
       "      <th>pgbench</th>\n",
       "      <th>setId</th>\n",
       "      <th>vmId</th>\n",
       "    </tr>\n",
       "  </thead>\n",
       "  <tbody>\n",
       "    <tr>\n",
       "      <th>count</th>\n",
       "      <td>3528.000000</td>\n",
       "      <td>3528.000000</td>\n",
       "      <td>3528.000000</td>\n",
       "      <td>3528.000000</td>\n",
       "      <td>3528.000000</td>\n",
       "      <td>3528.000000</td>\n",
       "    </tr>\n",
       "    <tr>\n",
       "      <th>mean</th>\n",
       "      <td>1871.522392</td>\n",
       "      <td>8.425494</td>\n",
       "      <td>5.794917</td>\n",
       "      <td>143490.297619</td>\n",
       "      <td>32.333333</td>\n",
       "      <td>16.666667</td>\n",
       "    </tr>\n",
       "    <tr>\n",
       "      <th>std</th>\n",
       "      <td>1618.387464</td>\n",
       "      <td>0.547367</td>\n",
       "      <td>0.557579</td>\n",
       "      <td>15952.650512</td>\n",
       "      <td>11.427711</td>\n",
       "      <td>11.427711</td>\n",
       "    </tr>\n",
       "    <tr>\n",
       "      <th>min</th>\n",
       "      <td>478.000000</td>\n",
       "      <td>7.170404</td>\n",
       "      <td>4.372757</td>\n",
       "      <td>114134.000000</td>\n",
       "      <td>1.000000</td>\n",
       "      <td>1.000000</td>\n",
       "    </tr>\n",
       "    <tr>\n",
       "      <th>25%</th>\n",
       "      <td>1101.000000</td>\n",
       "      <td>7.782930</td>\n",
       "      <td>5.457215</td>\n",
       "      <td>128668.750000</td>\n",
       "      <td>24.000000</td>\n",
       "      <td>7.000000</td>\n",
       "    </tr>\n",
       "    <tr>\n",
       "      <th>50%</th>\n",
       "      <td>1392.000000</td>\n",
       "      <td>8.771970</td>\n",
       "      <td>6.025283</td>\n",
       "      <td>138478.000000</td>\n",
       "      <td>34.000000</td>\n",
       "      <td>15.000000</td>\n",
       "    </tr>\n",
       "    <tr>\n",
       "      <th>75%</th>\n",
       "      <td>1859.000000</td>\n",
       "      <td>8.790618</td>\n",
       "      <td>6.290605</td>\n",
       "      <td>158502.500000</td>\n",
       "      <td>42.000000</td>\n",
       "      <td>25.000000</td>\n",
       "    </tr>\n",
       "    <tr>\n",
       "      <th>max</th>\n",
       "      <td>9940.000000</td>\n",
       "      <td>10.484629</td>\n",
       "      <td>7.109713</td>\n",
       "      <td>184283.000000</td>\n",
       "      <td>48.000000</td>\n",
       "      <td>48.000000</td>\n",
       "    </tr>\n",
       "  </tbody>\n",
       "</table>\n",
       "</div>"
      ],
      "text/plain": [
       "             iperf     sysbench    ycruncher        pgbench        setId  \\\n",
       "count  3528.000000  3528.000000  3528.000000    3528.000000  3528.000000   \n",
       "mean   1871.522392     8.425494     5.794917  143490.297619    32.333333   \n",
       "std    1618.387464     0.547367     0.557579   15952.650512    11.427711   \n",
       "min     478.000000     7.170404     4.372757  114134.000000     1.000000   \n",
       "25%    1101.000000     7.782930     5.457215  128668.750000    24.000000   \n",
       "50%    1392.000000     8.771970     6.025283  138478.000000    34.000000   \n",
       "75%    1859.000000     8.790618     6.290605  158502.500000    42.000000   \n",
       "max    9940.000000    10.484629     7.109713  184283.000000    48.000000   \n",
       "\n",
       "              vmId  \n",
       "count  3528.000000  \n",
       "mean     16.666667  \n",
       "std      11.427711  \n",
       "min       1.000000  \n",
       "25%       7.000000  \n",
       "50%      15.000000  \n",
       "75%      25.000000  \n",
       "max      48.000000  "
      ]
     },
     "execution_count": 115,
     "metadata": {},
     "output_type": "execute_result"
    }
   ],
   "source": [
    "df_merge.describe()"
   ]
  },
  {
   "cell_type": "code",
   "execution_count": 116,
   "metadata": {},
   "outputs": [
    {
     "name": "stdout",
     "output_type": "stream",
     "text": [
      "<class 'pandas.core.frame.DataFrame'>\n",
      "RangeIndex: 3528 entries, 0 to 3527\n",
      "Data columns (total 6 columns):\n",
      "iperf        3528 non-null float64\n",
      "sysbench     3528 non-null float64\n",
      "ycruncher    3528 non-null float64\n",
      "pgbench      3528 non-null int64\n",
      "setId        3528 non-null int64\n",
      "vmId         3528 non-null int64\n",
      "dtypes: float64(3), int64(3)\n",
      "memory usage: 165.5 KB\n"
     ]
    }
   ],
   "source": [
    "df_merge.info()"
   ]
  },
  {
   "cell_type": "code",
   "execution_count": 118,
   "metadata": {},
   "outputs": [],
   "source": [
    "#print to csv\n",
    "df_merge.to_csv(path_or_buf= directory + 'merged_11-16-2019.csv')"
   ]
  },
  {
   "cell_type": "code",
   "execution_count": null,
   "metadata": {},
   "outputs": [],
   "source": []
  },
  {
   "cell_type": "code",
   "execution_count": 52,
   "metadata": {},
   "outputs": [],
   "source": [
    "# col = ['setId', 'wallTime', 'instanceID']"
   ]
  },
  {
   "cell_type": "code",
   "execution_count": 58,
   "metadata": {},
   "outputs": [],
   "source": [
    "#filter by relevant columns\n",
    "# df = df_sysbench[col]"
   ]
  },
  {
   "cell_type": "code",
   "execution_count": 61,
   "metadata": {},
   "outputs": [],
   "source": [
    "# df.dropna(inplace=True)"
   ]
  },
  {
   "cell_type": "code",
   "execution_count": 59,
   "metadata": {},
   "outputs": [],
   "source": [
    "#sort by setId and instanceID\n",
    "# df.sort_values(by = ['setId','instanceID'], ascending=False, inplace=True)"
   ]
  },
  {
   "cell_type": "code",
   "execution_count": 60,
   "metadata": {},
   "outputs": [],
   "source": [
    "#replace instanceID with numerical vmID\n",
    "# df['vmId'] = pd.factorize(df.instanceID)[0] + 1"
   ]
  },
  {
   "cell_type": "code",
   "execution_count": 62,
   "metadata": {},
   "outputs": [],
   "source": [
    "#sort by vmId then setId \n",
    "# df.sort_values(by = ['setId','vmId'], inplace=True)"
   ]
  },
  {
   "cell_type": "code",
   "execution_count": 64,
   "metadata": {},
   "outputs": [],
   "source": [
    "#drop instanceID\n",
    "# df.drop(columns=['instanceID'], inplace=True)"
   ]
  },
  {
   "cell_type": "code",
   "execution_count": 68,
   "metadata": {},
   "outputs": [],
   "source": [
    "# #finally reverse setId to match eds version! \n",
    "# #change 48 if necessary to match vm count\n",
    "# vm_count = 48\n",
    "# df['setId'] = pd.factorize(df.setId)[0]- vm_count + 1\n",
    "# #absolute value\n",
    "# df['setId'] = df['setId'].abs()"
   ]
  },
  {
   "cell_type": "code",
   "execution_count": 72,
   "metadata": {},
   "outputs": [],
   "source": [
    "#add + 1 for off by 1 error\n",
    "# df['setId'] += 1"
   ]
  },
  {
   "cell_type": "code",
   "execution_count": 73,
   "metadata": {},
   "outputs": [],
   "source": [
    "# df.sort_values(by = ['setId','vmId'], inplace=True)\n",
    "# df.reset_index(drop=True, inplace=True)"
   ]
  },
  {
   "cell_type": "code",
   "execution_count": 75,
   "metadata": {
    "scrolled": true
   },
   "outputs": [],
   "source": [
    "# experiment_type = 'sysbench'"
   ]
  },
  {
   "cell_type": "code",
   "execution_count": 76,
   "metadata": {},
   "outputs": [],
   "source": [
    "# #drop every nth row...\n",
    "# #set nth column #change depending on data set...\n",
    "# if (experiment_type == 'iperf'):\n",
    "#     nth_column = 11\n",
    "# #     if (not dedicated_host_mode):\n",
    "# #         df_data = df_data[:551] #drop every run except first run\n",
    "# elif (experiment_type != 'pgbench'):\n",
    "#     nth_column = 10"
   ]
  },
  {
   "cell_type": "code",
   "execution_count": 77,
   "metadata": {},
   "outputs": [],
   "source": [
    "# #drop every nth column\n",
    "# #drop first row of each vm run since they are outliers (except pgbench)\n",
    "# if (experiment_type != 'pgbench'):\n",
    "#     df = df[df.index % nth_column != 0]"
   ]
  },
  {
   "cell_type": "code",
   "execution_count": 79,
   "metadata": {},
   "outputs": [],
   "source": [
    "# #take a sample of 3 for the 3 bench marks...\n",
    "# #drop all but 3 rows? since pgbench only has 3 rows?\n",
    "# n_rows = 3\n",
    "# df = df.groupby(['setId', 'vmId']).apply(pd.DataFrame.sample, n=n_rows, random_state=19).reset_index(drop=True)"
   ]
  },
  {
   "cell_type": "code",
   "execution_count": 158,
   "metadata": {
    "scrolled": true
   },
   "outputs": [],
   "source": [
    "# df.head()"
   ]
  },
  {
   "cell_type": "code",
   "execution_count": null,
   "metadata": {},
   "outputs": [],
   "source": [
    "#drop all but 3 rows? since pgbench only has 3 rows?\n",
    "#df.groupby('Group_Id').apply(pd.DataFrame.sample, n=1).reset_index(drop=True)"
   ]
  },
  {
   "cell_type": "code",
   "execution_count": null,
   "metadata": {},
   "outputs": [],
   "source": [
    "#export to csv"
   ]
  }
 ],
 "metadata": {
  "kernelspec": {
   "display_name": "Python 3",
   "language": "python",
   "name": "python3"
  },
  "language_info": {
   "codemirror_mode": {
    "name": "ipython",
    "version": 3
   },
   "file_extension": ".py",
   "mimetype": "text/x-python",
   "name": "python",
   "nbconvert_exporter": "python",
   "pygments_lexer": "ipython3",
   "version": "3.6.8"
  }
 },
 "nbformat": 4,
 "nbformat_minor": 2
}
